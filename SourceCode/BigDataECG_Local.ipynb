{
  "nbformat": 4,
  "nbformat_minor": 0,
  "metadata": {
    "colab": {
      "provenance": [],
      "gpuType": "T4",
      "collapsed_sections": [
        "Q8lstuZbms-w",
        "-vmpiRmbRy1h",
        "2fltr5vOgGxd",
        "qmtRs4KKgS6q",
        "sye_gpB2diH1"
      ]
    },
    "kernelspec": {
      "name": "python3",
      "display_name": "Python 3"
    },
    "language_info": {
      "name": "python"
    },
    "accelerator": "GPU"
  },
  "cells": [
    {
      "cell_type": "code",
      "source": [
        "from google.colab import drive\n",
        "drive.mount('/content/drive')"
      ],
      "metadata": {
        "colab": {
          "base_uri": "https://localhost:8080/"
        },
        "id": "PHu8NFsOjMFr",
        "outputId": "985467dc-9748-4d04-a0bf-9ccf1bc154b8"
      },
      "execution_count": null,
      "outputs": [
        {
          "output_type": "stream",
          "name": "stdout",
          "text": [
            "Mounted at /content/drive\n"
          ]
        }
      ]
    },
    {
      "cell_type": "code",
      "source": [
        "!pip install PyWavelets"
      ],
      "metadata": {
        "id": "gyhVxbXKcKC4",
        "colab": {
          "base_uri": "https://localhost:8080/"
        },
        "outputId": "8f9d89d9-38c4-4a21-a4fd-0303e3572e84"
      },
      "execution_count": null,
      "outputs": [
        {
          "output_type": "stream",
          "name": "stdout",
          "text": [
            "Requirement already satisfied: PyWavelets in /usr/local/lib/python3.11/dist-packages (1.8.0)\n",
            "Requirement already satisfied: numpy<3,>=1.23 in /usr/local/lib/python3.11/dist-packages (from PyWavelets) (2.0.2)\n"
          ]
        }
      ]
    },
    {
      "cell_type": "markdown",
      "source": [
        "#Toeplitz convolution"
      ],
      "metadata": {
        "id": "2iU2XqKBR3qQ"
      }
    },
    {
      "cell_type": "code",
      "source": [
        "import numpy as np\n",
        "import pywt\n",
        "from scipy.signal import iirnotch, medfilt, butter, filtfilt, convolve\n",
        "from sklearn.preprocessing import StandardScaler\n",
        "from sklearn.model_selection import train_test_split\n",
        "from sklearn.neighbors import KNeighborsClassifier\n",
        "from sklearn.metrics import classification_report, confusion_matrix, accuracy_score, roc_auc_score, precision_score, recall_score, f1_score\n",
        "import matplotlib.pyplot as plt\n",
        "import time\n",
        "\n",
        "# Bắt đầu đo thời gian bắt đầu chạy -> kết thúc\n",
        "start_pipeline = time.time()\n",
        "\n",
        "# --- 1. Đọc file .ts ---\n",
        "def load_ts_file(path):\n",
        "    with open(path, 'r') as f:\n",
        "        lines = f.readlines()\n",
        "    data_started = False\n",
        "    data, labels = [], []\n",
        "    for line in lines:\n",
        "        line = line.strip()\n",
        "        if line == \"\" or line.startswith(\"@\"):\n",
        "            if line.lower().startswith(\"@data\"):\n",
        "                data_started = True\n",
        "            continue\n",
        "        if data_started:\n",
        "            parts = line.split(\":\")\n",
        "            series = [float(x) for x in parts[0].split(\",\")]\n",
        "            label = int(parts[1])\n",
        "            data.append(series)\n",
        "            labels.append(label)\n",
        "    return np.array(data), np.array(labels)\n",
        "\n",
        "# --- 6. Định nghĩa các hàm xử lý tín hiệu ---\n",
        "# 1. Notch filter\n",
        "def apply_notch_filter(x, f0=50.0, Q=30.0, fs=1000):\n",
        "    b, a = iirnotch(f0, Q, fs)\n",
        "    return filtfilt(b, a, x)\n",
        "\n",
        "# 2. Median filter\n",
        "def apply_median_filter(x, kernel_size=3):\n",
        "    return medfilt(x, kernel_size=kernel_size)\n",
        "\n",
        "# 3. Wavelet denoise\n",
        "def wavelet_denoise(x, wavelet='db4', level=4, threshold=0.05):\n",
        "    coeffs = pywt.wavedec(x, wavelet, level=level)\n",
        "    coeffs_thresh = [coeffs[0]]  # giữ nguyên cA\n",
        "    for detail in coeffs[1:]:\n",
        "        coeffs_thresh.append(pywt.threshold(detail, threshold, mode='soft'))\n",
        "    return pywt.waverec(coeffs_thresh, wavelet)[:len(x)]\n",
        "\n",
        "\n",
        "# 4. Baseline drift removal\n",
        "def remove_baseline(x):\n",
        "    return x - np.mean(x)\n",
        "\n",
        "# 5. MSE và PSNR\n",
        "def compute_mse_psnr(x_orig, x_clean):\n",
        "    mse = np.mean((x_orig - x_clean)**2)\n",
        "    mse = max(mse, 1e-10)  # Đảm bảo MSE không bằng 0\n",
        "    psnr = 20 * np.log10(np.max(x_orig) / np.sqrt(mse))\n",
        "    return mse, psnr\n",
        "\n",
        "\n",
        "\n",
        "\n",
        "# Luôn xử lý lại cho đến khi đạt yêu cầu MSE & PSNR\n",
        "def process_until_pass(xi, mse_thresh=0.03, psnr_thresh=30):\n",
        "    while True:\n",
        "        x1 = apply_notch_filter(xi)\n",
        "        x2 = apply_median_filter(x1)\n",
        "        x3 = wavelet_denoise(x2)\n",
        "        x4 = remove_baseline(x3)\n",
        "\n",
        "        mse, psnr = compute_mse_psnr(xi, x4);\n",
        "        # print(f\"MSE: {mse:.6f}\");\n",
        "        # print(f\"PSNR: {psnr:.2f} dB\");\n",
        "        if mse < mse_thresh and psnr > psnr_thresh:\n",
        "            return x4  # chỉ dừng khi đạt yêu cầu\n",
        "        else:\n",
        "          xi = x4\n",
        "\n",
        "\n",
        "\n",
        "def preprocess_and_filter_all(X, y, mse_thresh=0.03, psnr_thresh=30):\n",
        "    X_processed, y_processed = [], []\n",
        "    for xi, yi in zip(X, y):\n",
        "        x_clean = process_until_pass(xi, mse_thresh, psnr_thresh)\n",
        "        X_processed.append(x_clean)\n",
        "        y_processed.append(yi)\n",
        "    return np.array(X_processed), np.array(y_processed)\n",
        "\n",
        "# --- 3: Toeplitz construction ---\n",
        "def construct_toeplitz(X):\n",
        "    n, s = X.shape\n",
        "    T = np.zeros((2 * n - 1, s + 2))\n",
        "    for i in range(n):\n",
        "        mu = np.mean(X[i])\n",
        "        sigma = np.std(X[i])\n",
        "        kernel = np.array([mu - 2 * sigma, mu, mu + 2 * sigma])\n",
        "        for j in range(s):\n",
        "            row_slice = slice(i, i + n)\n",
        "            col_slice = slice(j, j + 3)\n",
        "            if row_slice.stop <= 2 * n - 1 and col_slice.stop <= s + 2:\n",
        "                T[row_slice, col_slice] += X[i, j] * kernel\n",
        "    return T\n",
        "\n",
        "def construct_c(T, n, s):\n",
        "    C = np.zeros((n, s))\n",
        "    for i in range(n):\n",
        "        for j in range(s):\n",
        "            C[i, j] = np.sum(T[i:i+n, j:j+3])\n",
        "    return C\n",
        "\n",
        "def pooling(C):\n",
        "    return 0.5 * (C[:, :-1:2] + C[:, 1::2])\n",
        "\n",
        "def adaptive_toeplitz_convolution(X_prep):\n",
        "    T = construct_toeplitz(X_prep)\n",
        "    C = construct_c(T, X_prep.shape[0], X_prep.shape[1])\n",
        "    X_pool = pooling(C)\n",
        "    return X_pool\n",
        "\n",
        "# --- 4. Định nghĩa các hàm xử lý phân loại ---\n",
        "def standardize(X_train, X_test):\n",
        "    scaler = StandardScaler()\n",
        "    return scaler.fit_transform(X_train), scaler.transform(X_test)\n",
        "\n",
        "from sklearn.metrics import confusion_matrix, ConfusionMatrixDisplay, RocCurveDisplay, roc_curve, auc\n",
        "\n",
        "# Hàm mở rộng từ code trước của bạn – vẽ confusion matrix và ROC-AUC\n",
        "def plot_confusion_and_auc(y_true, y_pred, y_score, title_suffix=\"\"):\n",
        "    # 1. Ma trận nhầm lẫn\n",
        "    cm = confusion_matrix(y_true, y_pred, labels=[0, 1])\n",
        "    disp = ConfusionMatrixDisplay(confusion_matrix=cm, display_labels=[\"Normal\", \"Anomaly\"])\n",
        "    disp.plot(cmap='Blues')\n",
        "    plt.title(f\"Confusion Matrix {title_suffix}\")\n",
        "    plt.grid(False)\n",
        "    plt.show()\n",
        "\n",
        "    # 2. AUC - ROC Curve\n",
        "    fpr, tpr, _ = roc_curve(y_true, y_score)\n",
        "    roc_auc = auc(fpr, tpr)\n",
        "    RocCurveDisplay(fpr=fpr, tpr=tpr, roc_auc=roc_auc, estimator_name='Classifier').plot()\n",
        "    plt.title(f\"ROC Curve {title_suffix} (AUC = {roc_auc:.2f})\")\n",
        "    plt.show()\n",
        "\n",
        "\n",
        "def train_and_evaluate_knn(X, y, r=0.9, max_attempts=10):\n",
        "\n",
        "    # 👉 Chia train/test đến khi test set có đủ nhãn\n",
        "    for attempt in range(max_attempts):\n",
        "        X_train, X_test, y_train, y_test = train_test_split(X, y, test_size=r, stratify=y, random_state=42 + attempt)\n",
        "        unique_labels = np.unique(y_test)\n",
        "        if len(unique_labels) == 2:\n",
        "            break\n",
        "    else:\n",
        "        print(\"❌ Không thể tạo tập test có đủ 2 nhãn sau nhiều lần thử.\")\n",
        "        return None  # để rõ ràng hơn\n",
        "\n",
        "    # 👉 Chuẩn hóa\n",
        "    X_train_scaled, X_test_scaled = standardize(X_train, X_test)\n",
        "\n",
        "    # 👉 Huấn luyện KNN\n",
        "    model = KNeighborsClassifier(n_neighbors=5)\n",
        "    model.fit(X_train_scaled, y_train)\n",
        "\n",
        "    # 👉 Dự đoán và tính AUC\n",
        "    y_pred = model.predict(X_test_scaled)\n",
        "    y_prob = model.predict_proba(X_test_scaled)[:, 1]\n",
        "\n",
        "    # 👉 In kết quả\n",
        "    print(f\"\\n✅ Test ratio r = {r:.2f} (Chia lần thử: {attempt+1})\")\n",
        "    print(\"📊 Phân bố lớp trong test set:\", dict(zip(*np.unique(y_test, return_counts=True))))\n",
        "    print(confusion_matrix(y_test, y_pred))\n",
        "    print(classification_report(y_test, y_pred, digits=3, target_names=[\"Normal\", \"Anomaly\"]))\n",
        "    print(f\"🎯 Accuracy: {accuracy_score(y_test, y_pred):.3f}\")\n",
        "    print(f\"📌 Precision: {precision_score(y_test, y_pred):.3f}\")\n",
        "    print(f\"📌 Recall: {recall_score(y_test, y_pred):.3f}\")\n",
        "    print(f\"📌 F1-score: {f1_score(y_test, y_pred):.3f}\")\n",
        "    print(f\"🏁 AUC: {roc_auc_score(y_test, y_prob):.3f}\")\n",
        "\n",
        "    # 👉 VẼ biểu đồ confusion matrix và AUC\n",
        "    plot_confusion_and_auc(y_test, y_pred, y_prob, title_suffix=f\"(r = {r:.2f})\")\n",
        "\n",
        "# --- 5. Gọi lại các hàm để thực nghiệm ---\n",
        "# Load dữ liệu từ .ts\n",
        "X_train_raw, y_train_raw = load_ts_file(\"/content/drive/MyDrive/Colab Notebooks/Dataset/ECG5000_TRAIN.ts\")\n",
        "X_test_raw, y_test_raw = load_ts_file(\"/content/drive/MyDrive/Colab Notebooks/Dataset/ECG5000_TEST.ts\")\n",
        "# X_train_raw, y_train_raw = load_ts_file(\"/content/drive/MyDrive/IS405_DLL/Đồ án DLL/ecg50000/ECG5000_TRAIN.ts\")\n",
        "# X_test_raw, y_test_raw = load_ts_file(\"/content/drive/MyDrive/IS405_DLL/Đồ án DLL/ecg50000/ECG5000_TEST.ts\")\n",
        "\n",
        "# Chuyển nhãn: 1 → Normal (0), còn lại → Anomaly (1)\n",
        "y_train = np.where(y_train_raw == 1, 0, 1)\n",
        "y_test = np.where(y_test_raw == 1, 0, 1)\n",
        "\n",
        "# Gộp tập train + test\n",
        "X_all = np.concatenate([X_train_raw, X_test_raw])\n",
        "y_all = np.concatenate([y_train, y_test])\n",
        "\n",
        "# Lọc dữ liệu\n",
        "X_filtered, y_filtered = preprocess_and_filter_all(X_all, y_all, mse_thresh=0.03, psnr_thresh=30)\n",
        "\n",
        "print(\"✅ Shape của X_filtered:\", X_filtered.shape)\n",
        "print(\"✅ Số nhãn y_filtered:\", len(y_filtered))\n",
        "\n",
        "# Trích xuất đặc trưng bằng Toeplitz Convolution\n",
        "X_feat = adaptive_toeplitz_convolution(X_filtered)\n",
        "# Huấn luyện và đánh giá KNN\n",
        "result = train_and_evaluate_knn(X_feat, y_filtered, r=0.9)\n",
        "\n",
        "# Kết thúc đo thời gian\n",
        "end_pipeline = time.time()\n",
        "print(f\"\\n⏱️ Tổng thời gian chạy từ tiền xử lý đến đánh giá: {end_pipeline - start_pipeline:.2f} giây\")"
      ],
      "metadata": {
        "id": "0hv8eUnMbL8U",
        "colab": {
          "base_uri": "https://localhost:8080/",
          "height": 1000
        },
        "outputId": "cac9018f-3e82-4518-bfcb-e76b5abca4cc"
      },
      "execution_count": null,
      "outputs": [
        {
          "output_type": "stream",
          "name": "stdout",
          "text": [
            "✅ Shape của X_filtered: (5000, 140)\n",
            "✅ Số nhãn y_filtered: 5000\n",
            "\n",
            "✅ Test ratio r = 0.90 (Chia lần thử: 1)\n",
            "📊 Phân bố lớp trong test set: {np.int64(0): np.int64(2627), np.int64(1): np.int64(1873)}\n",
            "[[2606   21]\n",
            " [   9 1864]]\n",
            "              precision    recall  f1-score   support\n",
            "\n",
            "      Normal      0.997     0.992     0.994      2627\n",
            "     Anomaly      0.989     0.995     0.992      1873\n",
            "\n",
            "    accuracy                          0.993      4500\n",
            "   macro avg      0.993     0.994     0.993      4500\n",
            "weighted avg      0.993     0.993     0.993      4500\n",
            "\n",
            "🎯 Accuracy: 0.993\n",
            "📌 Precision: 0.989\n",
            "📌 Recall: 0.995\n",
            "📌 F1-score: 0.992\n",
            "🏁 AUC: 1.000\n"
          ]
        },
        {
          "output_type": "display_data",
          "data": {
            "text/plain": [
              "<Figure size 640x480 with 2 Axes>"
            ],
            "image/png": "[encoded data removed]"
          },
          "metadata": {}
        },
        {
          "output_type": "display_data",
          "data": {
            "text/plain": [
              "<Figure size 640x480 with 1 Axes>"
            ],
            "image/png": "[encoded data removed]"
          },
          "metadata": {}
        },
        {
          "output_type": "stream",
          "name": "stdout",
          "text": [
            "\n",
            "⏱️ Tổng thời gian chạy từ tiền xử lý đến đánh giá: 145.76 giây\n"
          ]
        }
      ]
    }
  ]
}